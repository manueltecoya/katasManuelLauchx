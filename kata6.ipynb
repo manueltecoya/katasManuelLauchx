{
 "cells": [
  {
   "cell_type": "markdown",
   "metadata": {},
   "source": [
    "# Ejercicio1: Crear y usar listas de Python\n",
    "Ejercicio: Usar listas para almacenar nombres de planetas\n",
    "Las listas permiten almacenar varios valores en una sola variable. Comenzarás un proyecto sobre información planetaria creando una lista de planetas."
   ]
  },
  {
   "cell_type": "code",
   "execution_count": 8,
   "metadata": {},
   "outputs": [
    {
     "name": "stdout",
     "output_type": "stream",
     "text": [
      "hay 8 planetas\n",
      "el ultimo planeta es: Pluton\n"
     ]
    }
   ],
   "source": [
    "# Creamos la lista planets y la mostramos\n",
    "planets = ['Mercury', 'Venus', 'Earth', 'Mars', 'Jupiter', 'Saturn', 'Uranus', 'Neptune']\n",
    "print(\"hay\" ,len(planets),\"planetas\")\n",
    "# Agregamos a plutón y mostramos el último elemento\n",
    "planets.append('Pluton')\n",
    "print(\"el ultimo planeta es:\",planets[-1])\n",
    "\n"
   ]
  },
  {
   "cell_type": "markdown",
   "metadata": {},
   "source": [
    "# jercicio 2: Trabajando con datos de una lista\n",
    "Usar slices para recuperar partes de una lista\n",
    "Es posible que debas trabajar con diferentes secciones de una lista. En nuestro ejemplo, queremos mostrar planetas más cerca y más lejos del sol de un planeta que el usuario ingresa por teclado.\n",
    "\n",
    "Comienza agregando el código para crear una lista con los planetas."
   ]
  },
  {
   "cell_type": "code",
   "execution_count": 34,
   "metadata": {},
   "outputs": [
    {
     "name": "stdout",
     "output_type": "stream",
     "text": [
      "El planeta esta en la posocion:  3 de la lista\n",
      "los planetas más cercanos al sol:  ['Mercury', 'Venus', 'Earth']\n",
      "los planetas más cercanos al sol:  Neptune , Saturn , Jupiter\n"
     ]
    }
   ],
   "source": [
    "# Lista de planetas\n",
    "planets = ['Mercury', 'Venus', 'Earth', 'Mars', 'Jupiter', 'Saturn', 'Neptune']\n",
    "\n",
    "# Solicitamos el nombre de un planeta \n",
    "nombre=input(\"el nombre de un planeta: \")\n",
    "# Busca el planeta en la lista\n",
    "buscar = planets.index(nombre)\n",
    "print(\"El planeta esta en la posocion: \",buscar, \" de la lista\")\n",
    "# Muestra los planetas más cercanos al sol\n",
    "print('los planetas más cercanos al sol: ', planets[0:3])\n",
    "# Muestra los planetas más lejanos al sol\n",
    "print('los planetas más cercanos al sol: ', planets[-1],\",\", planets[-2],\",\", planets[-3])\n"
   ]
  }
 ],
 "metadata": {
  "interpreter": {
   "hash": "7643b0a5b9f0be114be4bbff004e420d239bd6c6dd17a1e352ef0a66888492c1"
  },
  "kernelspec": {
   "display_name": "Python 3.10.2 64-bit (windows store)",
   "language": "python",
   "name": "python3"
  },
  "language_info": {
   "codemirror_mode": {
    "name": "ipython",
    "version": 3
   },
   "file_extension": ".py",
   "mimetype": "text/x-python",
   "name": "python",
   "nbconvert_exporter": "python",
   "pygments_lexer": "ipython3",
   "version": "3.10.2"
  },
  "orig_nbformat": 4
 },
 "nbformat": 4,
 "nbformat_minor": 2
}
