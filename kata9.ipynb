{
 "cells": [
  {
   "cell_type": "markdown",
   "metadata": {},
   "source": [
    "# Ejercicio 1: Trabajar con argumentos en funciones\n",
    "Los argumentos requeridos en las funciones se utilizan cuando las funciones necesitan que esos argumentos funcionen correctamente. En este ejercicio, construirás un informe de combustible que requiere información de varias ubicaciones de combustible en todo el cohete"
   ]
  },
  {
   "cell_type": "code",
   "execution_count": 8,
   "metadata": {},
   "outputs": [
    {
     "name": "stdout",
     "output_type": "stream",
     "text": [
      "\n",
      "    tanque 1: 10%\n",
      "    tanque 2: 20%\n",
      "    tanque 3: 23% \n",
      "    \n",
      "promedio:10.0\n"
     ]
    }
   ],
   "source": [
    "# Función para leer 3 tanques de combustible y muestre el promedio\n",
    "def  informes(tanque_1,tanque_2,tanque_3):\n",
    "    return f\"\"\"\n",
    "    tanque 1: {tanque_1}%\n",
    "    tanque 2: {tanque_2}%\n",
    "    tanque 3: {tanque_3}% \n",
    "    \"\"\"\n",
    "# Llamamos a la función que genera el reporte print(funcion(tanque1, tanque2, tanque3))\n",
    "print( informes(10,20,23))\n",
    "\n",
    "# Función promedio \n",
    "def promedio(tanque_1,tanque_2,tanque_3):\n",
    " promedio=(tanque_1+tanque_2+tanque_3)/3\n",
    " return f\"\"\"promedio:{promedio}\"\"\"\n",
    "\n",
    "print(promedio(10,10,10))\n"
   ]
  },
  {
   "cell_type": "markdown",
   "metadata": {},
   "source": [
    "# Ejercicio 2: Trabajo con argumentos de palabra clave\n",
    "Ejercicio : Trabajar con argumentos de palabras clave en funciones\n",
    "En este ejercicio, construirás un informe de cohete que requiere varias piezas de información, como el tiempo hasta el destino, el combustible a la izquierda y el nombre del destino. Comienza por crear una función que creará un informe preciso de la misión:"
   ]
  },
  {
   "cell_type": "code",
   "execution_count": 25,
   "metadata": {},
   "outputs": [
    {
     "name": "stdout",
     "output_type": "stream",
     "text": [
      "\n",
      "    prelanzamiento: 10\n",
      "    tiempo_vuelo: 12\n",
      "    destino: Marte\n",
      "    tanque_externo: 100 %\n",
      "    tanque_interno: 100 %\n",
      "    \n",
      "\n",
      "    Mission to Marte\n",
      "    Total travel time: 76 minutes\n",
      "    Total de conbustible: 500000\n",
      "    \n",
      "\n",
      "    Mission to Marte\n",
      "    Total travel time: 76 minutes\n",
      "    Total de conbustible: 500000\n",
      "    tan_pricipal tank --> 300000\n",
      "tan_external tank --> 200000\n",
      "\n"
     ]
    }
   ],
   "source": [
    "# Función con un informe preciso de la misión. Considera hora de prelanzamiento, tiempo de vuelo, destino, tanque externo y tanque interno\n",
    "def rep_mision(prelanzamiento, tiempo_vuelo, destino, tanque_externo , tanque_interno):\n",
    "    return f\"\"\"\n",
    "    prelanzamiento: {prelanzamiento}\n",
    "    tiempo_vuelo: {tiempo_vuelo}\n",
    "    destino: {destino}\n",
    "    tanque_externo: {tanque_externo} %\n",
    "    tanque_interno: {tanque_interno} %\n",
    "    \"\"\"\n",
    "print(rep_mision(10,12,\"Marte\",100,100))\n",
    "\n",
    "# Escribe tu nueva función de reporte considerando lo anterior\n",
    "\n",
    "def mission_report(destination, *tiempo, **conbustible_total):\n",
    "    return f\"\"\"\n",
    "    Mission to {destination}\n",
    "    Total travel time: {sum(tiempo)} minutes\n",
    "    Total de conbustible: {sum(conbustible_total.values())}\n",
    "    \"\"\"\n",
    "\n",
    "print(mission_report(\"Marte\", 10, 15, 51, tan_pricipal=300000, tan_external=200000))\n",
    "\n",
    "# Escribe tu nueva función\n",
    "\n",
    "def mission_report(destination, *tiempo, **conbustible_total):\n",
    "    report = f\"\"\"\n",
    "    Mission to {destination}\n",
    "    Total travel time: {sum(tiempo)} minutes\n",
    "    Total de conbustible: {sum(conbustible_total.values())}\n",
    "    \"\"\"\n",
    "    for tank_name, gallons in conbustible_total.items():\n",
    "        report += f\"{tank_name} tank --> {gallons}\\n\"\n",
    "    return report\n",
    "print(mission_report(\"Marte\", 10, 15, 51, tan_pricipal=300000, tan_external=200000))\n",
    "\n"
   ]
  }
 ],
 "metadata": {
  "interpreter": {
   "hash": "7643b0a5b9f0be114be4bbff004e420d239bd6c6dd17a1e352ef0a66888492c1"
  },
  "kernelspec": {
   "display_name": "Python 3.10.2 64-bit (windows store)",
   "language": "python",
   "name": "python3"
  },
  "language_info": {
   "codemirror_mode": {
    "name": "ipython",
    "version": 3
   },
   "file_extension": ".py",
   "mimetype": "text/x-python",
   "name": "python",
   "nbconvert_exporter": "python",
   "pygments_lexer": "ipython3",
   "version": "3.10.2"
  },
  "orig_nbformat": 4
 },
 "nbformat": 4,
 "nbformat_minor": 2
}
