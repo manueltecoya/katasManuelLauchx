{
 "cells": [
  {
   "cell_type": "markdown",
   "metadata": {},
   "source": [
    "# Ejercicio1 - Utilizar operadores aritméticos\n",
    "Operadores aritméticos en Python\n",
    "Python proporciona operadores aritméticos comunes para que puedas realizar operaciones matemáticas en tu código. Estos incluyen las cuatro operaciones principales de suma, resta, multiplicación y división.\n",
    "\n",
    "Exploremos cómo podemos crear un programa que pueda calcular la distancia entre dos planetas. Comenzaremos usando dos distancias de planetas: Tierra (149.597.870 km) y Júpiter (778.547.200 km)."
   ]
  },
  {
   "cell_type": "code",
   "execution_count": 12,
   "metadata": {},
   "outputs": [
    {
     "name": "stdout",
     "output_type": "stream",
     "text": [
      "Distacia entre los planeta es: 628949330\n",
      "la distacia en millas es: 390577533.93\n"
     ]
    }
   ],
   "source": [
    "# Tierra \n",
    "plant_1=149597870 #km\n",
    "# Júpiter \n",
    "plant_2=778547200 #km\n",
    "# Calcular la distancia entre planetas\n",
    "distancia = plant_2-plant_1 \n",
    "print(\"Distacia entre los planeta es: \"+ str(distancia))\n",
    "dis_millas = distancia * 0.621\n",
    "print(\"la distacia en millas es: \"+str(dis_millas))"
   ]
  },
  {
   "cell_type": "markdown",
   "metadata": {},
   "source": [
    "# Ejercicio 2: convierte cadenas en números y usa valores absolutos\n",
    "Crear una aplicación para trabajar con números y entrada de usuario\n",
    "Con frecuencia, deberás convertir los valores de cadena en números para realizar correctamente diferentes operaciones o determinar el valor absoluto de un número.\n",
    "\n",
    "Para crear nuestra aplicación, queremos leer la distancia del sol para dos planetas, y luego mostrar la distancia entre los planetas. Haremos esto usando input para leer los valores, int para convertir a entero y luego abs para convertir el resultado en su valor absoluto."
   ]
  },
  {
   "cell_type": "code",
   "execution_count": 26,
   "metadata": {},
   "outputs": [
    {
     "name": "stdout",
     "output_type": "stream",
     "text": [
      "5\n",
      "la distacia km a milla es: 3.105 millas\n"
     ]
    }
   ],
   "source": [
    "# Almacenar las entradas del usuario\n",
    "plant_1 = input('inserte la distancia del sol del el primer planeta:')\n",
    "plant_2 = input('inserte la distancia del sol del el segundo planeta: ')\n",
    "# Convierte las cadenas de ambos planetas a números enteros\n",
    "plant_1_int = int(plant_1)\n",
    "plant_2_int = int(plant_2)\n",
    "# Realizar el cálculo y determinar el valor absoluto\n",
    "distancia=abs(plant_1_int - plant_2_int)\n",
    "print(distancia)\n",
    "# Convertir de KM a Millas\n",
    "print(f\"la distacia km a milla es: {distancia*0.621} millas\")"
   ]
  }
 ],
 "metadata": {
  "interpreter": {
   "hash": "7643b0a5b9f0be114be4bbff004e420d239bd6c6dd17a1e352ef0a66888492c1"
  },
  "kernelspec": {
   "display_name": "Python 3.10.2 64-bit (windows store)",
   "language": "python",
   "name": "python3"
  },
  "language_info": {
   "codemirror_mode": {
    "name": "ipython",
    "version": 3
   },
   "file_extension": ".py",
   "mimetype": "text/x-python",
   "name": "python",
   "nbconvert_exporter": "python",
   "pygments_lexer": "ipython3",
   "version": "3.10.2"
  },
  "orig_nbformat": 4
 },
 "nbformat": 4,
 "nbformat_minor": 2
}
